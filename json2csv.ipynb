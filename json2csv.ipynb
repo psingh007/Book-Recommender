{
 "cells": [
  {
   "cell_type": "code",
   "execution_count": 7,
   "metadata": {},
   "outputs": [
    {
     "name": "stdout",
     "output_type": "stream",
     "text": [
      "{\"ID\": 2468240, \"title\": \"Orfina VOL 03 \n",
      "{Mature}\", \"num_pages\": \"192\", \"author\": \"Kitsune Tennoji\", \"rating\": \"3.62\", \"ratings_count\": \"8\", \"text_reviews_count\": \"1\", \"language\": null}\n",
      "{\"ID\": 2468240, \"title\": \"Orfina VOL 03 \n",
      "{Mature}\", \"num_pages\": \"192\", \"author\": \"Kitsune Tennoji\", \"rating\": \"3.62\", \"ratings_count\": \"8\", \"text_reviews_count\": \"1\", \"language\": null}\n"
     ]
    }
   ],
   "source": [
    "import json\n",
    "import csv\n",
    "#a=json.loads('pjdata.json')\n",
    "cnt=0\n",
    "data=[]\n",
    "with open('datav3.json', encoding='utf-8') as f:\n",
    "    raw=f.readline().split('{')\n",
    "    for i in range(1,len(raw)):\n",
    "        try:\n",
    "            raw[i]='{'+raw[i]\n",
    "            raw[i]=json.loads(raw[i])\n",
    "        except:\n",
    "            print(raw[i])\n",
    "            continue\n",
    "    raw.remove('')\n",
    "f.close()\n",
    "for l in raw:\n",
    "    #print(l['language'])\n",
    "    try:\n",
    "        if l['language']==None:\n",
    "            l['language']='eng'\n",
    "    except:\n",
    "        print(l)\n",
    "        continue\n",
    "    data.append(list(l.values()))\n",
    "header=['ID','title','num_pages','author','rating','ratings_count','text_reviews_count','language']\n",
    "with open('datav3.csv','w')as f:\n",
    "    f_csv = csv.writer(f)\n",
    "    f_csv.writerow(header)\n",
    "    f_csv.writerows(data)"
   ]
  },
  {
   "cell_type": "code",
   "execution_count": 79,
   "metadata": {},
   "outputs": [
    {
     "name": "stdout",
     "output_type": "stream",
     "text": [
      "dict_values([6242812, 'Figures For Fun', None, 'Yakov Perelman', '4.27', '0', '0', None])\n",
      "<class 'dict'>\n",
      "7923\n"
     ]
    }
   ],
   "source": [
    "print(raw[0].values())\n",
    "print(type(raw[0]))\n",
    "print(len(data))"
   ]
  },
  {
   "cell_type": "code",
   "execution_count": 3,
   "metadata": {},
   "outputs": [
    {
     "name": "stdout",
     "output_type": "stream",
     "text": [
      "10039\n"
     ]
    }
   ],
   "source": [
    "a=open('datav3.json',encoding='utf-8')\n",
    "print(len(a.readline().split('{')))"
   ]
  },
  {
   "cell_type": "code",
   "execution_count": null,
   "metadata": {},
   "outputs": [],
   "source": []
  },
  {
   "cell_type": "code",
   "execution_count": null,
   "metadata": {},
   "outputs": [],
   "source": []
  }
 ],
 "metadata": {
  "kernelspec": {
   "display_name": "Python 3",
   "language": "python",
   "name": "python3"
  },
  "language_info": {
   "codemirror_mode": {
    "name": "ipython",
    "version": 3
   },
   "file_extension": ".py",
   "mimetype": "text/x-python",
   "name": "python",
   "nbconvert_exporter": "python",
   "pygments_lexer": "ipython3",
   "version": "3.7.0"
  }
 },
 "nbformat": 4,
 "nbformat_minor": 2
}
